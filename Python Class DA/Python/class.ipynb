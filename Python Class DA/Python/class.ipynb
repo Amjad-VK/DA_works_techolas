{
 "cells": [
  {
   "cell_type": "code",
   "execution_count": 3,
   "metadata": {},
   "outputs": [
    {
     "name": "stdout",
     "output_type": "stream",
     "text": [
      "100 AMJAD V K 35000\n"
     ]
    }
   ],
   "source": [
    "class emply:\n",
    "    def __init__(self,id,name,salary):\n",
    "        self.emp_id=id\n",
    "        self.emp_name=name\n",
    "        self.emp_salary=salary\n",
    "    def getfunc(self):\n",
    "        print(self.emp_id,self.emp_name,self.emp_salary)\n",
    "\n",
    "obj1=emply(100,\"AMJAD\",35000)\n",
    "obj1.emp_name=\"AMJAD V K\"\n",
    "\n",
    "obj1.getfunc()"
   ]
  },
  {
   "cell_type": "code",
   "execution_count": null,
   "metadata": {},
   "outputs": [],
   "source": []
  },
  {
   "cell_type": "code",
   "execution_count": 4,
   "metadata": {},
   "outputs": [
    {
     "name": "stdout",
     "output_type": "stream",
     "text": [
      "amjad V K\n"
     ]
    }
   ],
   "source": [
    "# Inheritance\n",
    "\n",
    "# parent class\n",
    "class person:\n",
    "    def __init__(self,fname,lname):\n",
    "        self.firstname=fname\n",
    "        self.lastname=lname\n",
    "    def printname(self):\n",
    "        print(self.firstname,self.lastname)\n",
    "\n",
    "\n",
    "# child class\n",
    "class student(person):\n",
    "    pass\n",
    "\n",
    "a=student(\"amjad\",\"V K\")\n",
    "a.printname()"
   ]
  },
  {
   "cell_type": "code",
   "execution_count": 2,
   "metadata": {},
   "outputs": [
    {
     "name": "stdout",
     "output_type": "stream",
     "text": [
      "A B C\n"
     ]
    }
   ],
   "source": [
    "# parent class\n",
    "class person:\n",
    "    def __init__(self,fname,lname):\n",
    "        self.firstname=fname\n",
    "        self.lastname=lname\n",
    "    def printname(self):\n",
    "        print(self.firstname,self.lastname)\n",
    "\n",
    "\n",
    "# child class\n",
    "class student(person):\n",
    "    def __init__(self, fname, lname,middle):\n",
    "        person.__init__(self,fname, lname)\n",
    "        self.middle=middle\n",
    "    def printname2(self):\n",
    "        print(self.firstname,self.lastname,self.middle)\n",
    "\n",
    "a=student(fname=\"A\",lname=\"B\",middle=\"C\")\n",
    "\n",
    "\n",
    "a.printname2()\n"
   ]
  },
  {
   "cell_type": "code",
   "execution_count": 1,
   "metadata": {},
   "outputs": [
    {
     "ename": "TypeError",
     "evalue": "triangle.__init__() missing 1 required positional argument: 'area'",
     "output_type": "error",
     "traceback": [
      "\u001b[1;31m---------------------------------------------------------------------------\u001b[0m",
      "\u001b[1;31mTypeError\u001b[0m                                 Traceback (most recent call last)",
      "Cell \u001b[1;32mIn[1], line 24\u001b[0m\n\u001b[0;32m     21\u001b[0m     \u001b[39mdef\u001b[39;00m \u001b[39marea\u001b[39m(\u001b[39mself\u001b[39m):\n\u001b[0;32m     22\u001b[0m         \u001b[39mprint\u001b[39m(\u001b[39m1\u001b[39m\u001b[39m/\u001b[39m\u001b[39m2\u001b[39m\u001b[39m*\u001b[39m(\u001b[39mself\u001b[39m\u001b[39m.\u001b[39mside3\u001b[39m*\u001b[39m\u001b[39mself\u001b[39m\u001b[39m.\u001b[39mside2))\n\u001b[1;32m---> 24\u001b[0m a\u001b[39m=\u001b[39mtriangle(\u001b[39m2\u001b[39;49m,\u001b[39m2\u001b[39;49m,\u001b[39m2\u001b[39;49m) \n\u001b[0;32m     25\u001b[0m a\u001b[39m.\u001b[39msides()    \n",
      "\u001b[1;31mTypeError\u001b[0m: triangle.__init__() missing 1 required positional argument: 'area'"
     ]
    }
   ],
   "source": [
    "# create a class called polygon defined as follows data attributes\n",
    "a=int(input(\"Enter the Base:\"))\n",
    "b=int(input(\"Enter the Height:\"))\n",
    "\n",
    "\n",
    "\n",
    "class polygon:\n",
    "    def __init__(self,side1,side2,side3):\n",
    "        self.side1=side1\n",
    "        self.side2=side2\n",
    "        self.side3=side3\n",
    "    def sides(self):\n",
    "        print(self.side1,self.side2,self.side3)\n",
    "\n",
    "\n",
    "class triangle(polygon):\n",
    "    def __init__(self, side1, side2, side3,area):\n",
    "        person.__init__(side1, side2, side3)\n",
    "        self.area=area\n",
    "        \n",
    "    def area(self):\n",
    "        print(1/2*(self.side3*self.side2))\n",
    "\n",
    "a=triangle(2,2,2) \n",
    "a.sides()    \n"
   ]
  },
  {
   "cell_type": "code",
   "execution_count": 3,
   "metadata": {},
   "outputs": [
    {
     "ename": "TypeError",
     "evalue": "student() takes no arguments",
     "output_type": "error",
     "traceback": [
      "\u001b[1;31m---------------------------------------------------------------------------\u001b[0m",
      "\u001b[1;31mTypeError\u001b[0m                                 Traceback (most recent call last)",
      "Cell \u001b[1;32mIn[3], line 13\u001b[0m\n\u001b[0;32m     11\u001b[0m     \u001b[39mdef\u001b[39;00m \u001b[39mprintname2\u001b[39m(\u001b[39mself\u001b[39m):\n\u001b[0;32m     12\u001b[0m         \u001b[39mprint\u001b[39m(\u001b[39mself\u001b[39m\u001b[39m.\u001b[39mfirstname,\u001b[39mself\u001b[39m\u001b[39m.\u001b[39mlastname,\u001b[39mself\u001b[39m\u001b[39m.\u001b[39mmiddle)\n\u001b[1;32m---> 13\u001b[0m a\u001b[39m=\u001b[39mstudent(\u001b[39m\"\u001b[39;49m\u001b[39ma\u001b[39;49m\u001b[39m\"\u001b[39;49m,\u001b[39m\"\u001b[39;49m\u001b[39mv\u001b[39;49m\u001b[39m\"\u001b[39;49m,\u001b[39m\"\u001b[39;49m\u001b[39ma\u001b[39;49m\u001b[39m\"\u001b[39;49m)\n\u001b[0;32m     14\u001b[0m a\u001b[39m.\u001b[39mprintname2()\n",
      "\u001b[1;31mTypeError\u001b[0m: student() takes no arguments"
     ]
    }
   ],
   "source": [
    "class person:\n",
    "    def _init_(self,fname,lname):\n",
    "        self.firstname=fname\n",
    "        self.lastname=lname\n",
    "    def printname(self):\n",
    "        print(self.firstname,self.lastname)\n",
    "class student(person):\n",
    "    def _init_(self,fname,lname,middle):\n",
    "        person._init_(self,fname,lname)\n",
    "        self.middle=middle\n",
    "    def printname2(self):\n",
    "        print(self.firstname,self.lastname,self.middle)\n",
    "a=student(\"a\",\"v\",\"a\")\n",
    "a.printname2()"
   ]
  },
  {
   "cell_type": "code",
   "execution_count": 5,
   "metadata": {},
   "outputs": [],
   "source": [
    "class polygon:\n",
    "    def __init__(self):\n",
    "        self.sides=sides\n",
    "        self.side_count=side_count\n",
    "        self.side_stored=[]\n",
    "    def inputside(self,sides,side_stored):\n",
    "        side_count=int(input(\"Enter the no of sides\"))\n",
    "        self.sides=sides\n",
    "        \n",
    "        while sides<=side_count:\n",
    "            sides=int(input(\"Enter the no of sides\"))\n",
    "            sides_stored.append(sides)\n",
    "            \n",
    "        \n",
    "\n",
    "class triangle(polygon):\n",
    "    def __init__(self,sides,area):\n",
    "        self.sides=sides\n",
    "        self.area=area\n",
    "    def area(self):\n",
    "        area=self.sides/2\n",
    "        \n",
    "\n",
    "\n",
    "\n",
    "a=polygon(1,1)\n",
    "a.inputside()"
   ]
  },
  {
   "cell_type": "code",
   "execution_count": 36,
   "metadata": {},
   "outputs": [
    {
     "name": "stdout",
     "output_type": "stream",
     "text": [
      "0.0\n"
     ]
    }
   ],
   "source": [
    "class Polygon:\n",
    "    def __init__(self):\n",
    "        self.n=int(input(\"Enter the no of sides\"))\n",
    "        self.sides=[]\n",
    "        for i in range(self.n):\n",
    "            self.sides.append(int(input(f\"Enter side {i+1}:\")))\n",
    "    \n",
    "        # while self.n<=0:\n",
    "        #     values=int(input(\"Enter the sides length\"))\n",
    "        #     self.sides.append(values)\n",
    "        # print(self.sides)\n",
    "class Triangle(Polygon):\n",
    "    def __init__(self):\n",
    "        Polygon.__init__(self)\n",
    "    def area(self):\n",
    "        a,b,c=self.sides\n",
    "        s=(a+b+c)/2\n",
    "        a=(s*(s-a)*(s-b)*(s-c))**0.5\n",
    "        print(a)\n",
    "\n",
    "            \n",
    "\n",
    "\n",
    "        \n",
    "\n",
    "\n",
    "b=Triangle()\n",
    "b.area()\n",
    "# a.n()\n",
    "# a.sides()\n",
    "# b=Triangle()\n",
    "# b.sides()"
   ]
  },
  {
   "cell_type": "code",
   "execution_count": 3,
   "metadata": {},
   "outputs": [
    {
     "ename": "AttributeError",
     "evalue": "'triangle' object has no attribute 'sides'",
     "output_type": "error",
     "traceback": [
      "\u001b[1;31m---------------------------------------------------------------------------\u001b[0m",
      "\u001b[1;31mAttributeError\u001b[0m                            Traceback (most recent call last)",
      "Cell \u001b[1;32mIn[3], line 18\u001b[0m\n\u001b[0;32m     15\u001b[0m         \u001b[39mprint\u001b[39m(\u001b[39m'\u001b[39m\u001b[39mthe area of triangle is \u001b[39m\u001b[39m%0.2f\u001b[39;00m\u001b[39m'\u001b[39m \u001b[39m%\u001b[39ma)\n\u001b[0;32m     17\u001b[0m b\u001b[39m=\u001b[39mtriangle()\n\u001b[1;32m---> 18\u001b[0m b\u001b[39m.\u001b[39;49marea()\n",
      "Cell \u001b[1;32mIn[3], line 12\u001b[0m, in \u001b[0;36mtriangle.area\u001b[1;34m(self)\u001b[0m\n\u001b[0;32m     11\u001b[0m \u001b[39mdef\u001b[39;00m \u001b[39marea\u001b[39m(\u001b[39mself\u001b[39m):\n\u001b[1;32m---> 12\u001b[0m     a,b,c\u001b[39m=\u001b[39m\u001b[39mself\u001b[39;49m\u001b[39m.\u001b[39;49msides\n\u001b[0;32m     13\u001b[0m     s\u001b[39m=\u001b[39m(a\u001b[39m+\u001b[39mb\u001b[39m+\u001b[39mc)\u001b[39m/\u001b[39m\u001b[39m2\u001b[39m\n\u001b[0;32m     14\u001b[0m     a\u001b[39m=\u001b[39m(s\u001b[39m*\u001b[39m(s\u001b[39m-\u001b[39ma)(s\u001b[39m-\u001b[39mb)(s\u001b[39m-\u001b[39mc))\u001b[39m*\u001b[39m\u001b[39m*\u001b[39m\u001b[39m0.5\u001b[39m\n",
      "\u001b[1;31mAttributeError\u001b[0m: 'triangle' object has no attribute 'sides'"
     ]
    }
   ],
   "source": [
    "class Polygon:\n",
    "    def _init_(self):\n",
    "        self.n = int(input(\"Enter the number of sides: \"))\n",
    "        self.sides = []\n",
    "        for i in range(self.n):\n",
    "            self.sides.append(float(input(f\"Enter the magnitude of side {i+1}: \")))\n",
    "\n",
    "class triangle(Polygon):\n",
    "    def _init_(self):\n",
    "        Polygon._init_(self)\n",
    "    def area(self):\n",
    "        a,b,c=self.sides\n",
    "        s=(a+b+c)/2\n",
    "        a=(s*(s-a)(s-b)(s-c))**0.5\n",
    "        print('the area of triangle is %0.2f' %a)\n",
    "\n",
    "b=triangle()\n",
    "b.area()"
   ]
  },
  {
   "cell_type": "code",
   "execution_count": 4,
   "metadata": {},
   "outputs": [
    {
     "name": "stdout",
     "output_type": "stream",
     "text": [
      "Selling Price:900\n",
      "Selling Price:900\n",
      "Selling Price:1000\n"
     ]
    }
   ],
   "source": [
    "# Encapsulation\n",
    "class computer():\n",
    "    def __init__(self):\n",
    "        self.__maxprice=900\n",
    "    def sell(self):\n",
    "        print(\"Selling Price:{}\".format(self.__maxprice))\n",
    "    def maxprice(self,price):\n",
    "        self.__maxprice=price\n",
    "    \n",
    "\n",
    "c=computer()\n",
    "c.sell()\n",
    "\n",
    "# Modification doesnt happn in direct call(private data(_)/(__))\n",
    "c.__maxprice=1000\n",
    "c.sell()\n",
    "\n",
    "\n",
    "# Modification can be done through only a func\n",
    "c.maxprice(1000)\n",
    "c.sell()\n"
   ]
  },
  {
   "cell_type": "code",
   "execution_count": 11,
   "metadata": {},
   "outputs": [
    {
     "name": "stdout",
     "output_type": "stream",
     "text": [
      "parrot can fly\n",
      "Parrot cant swim\n",
      "penguin cant fly\n",
      "penguin can swim\n"
     ]
    }
   ],
   "source": [
    "# Polymorphism\n",
    "class parrot():\n",
    "    def swim(self):\n",
    "        print(\"Parrot cant swim\")\n",
    "    def fly(self):\n",
    "        print(\"parrot can fly\")\n",
    "\n",
    "\n",
    "class penguin():\n",
    "    def swim(self):\n",
    "        print(\"penguin can swim\")\n",
    "    def fly(self):\n",
    "        print(\"penguin cant fly\")\n",
    "\n",
    "# This is the interface \n",
    "def test(bird):\n",
    "    bird.fly()\n",
    "    bird.swim()\n",
    "\n",
    "c=parrot()\n",
    "i=penguin()\n",
    "\n",
    "\n",
    "test(c)\n",
    "test(i)\n",
    "\n",
    "hh\n"
   ]
  },
  {
   "cell_type": "code",
   "execution_count": null,
   "metadata": {},
   "outputs": [],
   "source": [
    "# Constructors: to initialize variables\n",
    "# Special functions:(eg: __init__...._)\n",
    "\n",
    "class classname():\n",
    "    def __init__(self):\n",
    "        pass"
   ]
  },
  {
   "cell_type": "code",
   "execution_count": 14,
   "metadata": {},
   "outputs": [
    {
     "name": "stdout",
     "output_type": "stream",
     "text": [
      "Hello\n",
      "Hello Amjad\n"
     ]
    }
   ],
   "source": [
    "# Method overloading\n",
    "class person():\n",
    "    def hello(self,name=None):\n",
    "        if name is not None:\n",
    "            print(\"Hello \" + name)\n",
    "        else:\n",
    "            print(\"Hello\")\n",
    "a=person()\n",
    "a.hello()\n",
    "a.hello(\"Amjad\")"
   ]
  },
  {
   "cell_type": "code",
   "execution_count": 1,
   "metadata": {},
   "outputs": [
    {
     "name": "stdout",
     "output_type": "stream",
     "text": [
      "Inside child\n"
     ]
    }
   ],
   "source": [
    "# Method overriding\n",
    "\n",
    "class parent():\n",
    "    def __init__(self):\n",
    "        self.value=\"Inside Parent\"\n",
    "    def show(self):\n",
    "        print(self.show())\n",
    "\n",
    "class child(parent):\n",
    "    def __init__(self):\n",
    "        self.value=\"Inside child\"\n",
    "    def show(self):\n",
    "        print(self.value)\n",
    "\n",
    "c=child()\n",
    "c.show()"
   ]
  },
  {
   "cell_type": "code",
   "execution_count": 17,
   "metadata": {},
   "outputs": [
    {
     "name": "stdout",
     "output_type": "stream",
     "text": [
      "5\n",
      "10\n"
     ]
    }
   ],
   "source": [
    "# Scope( Global and Local)\n",
    "\n",
    "\n",
    "# Global\n",
    "x=10\n",
    "\n",
    "\n",
    "def fun():\n",
    "    # local\n",
    "    x=5\n",
    "    print(x)\n",
    "\n",
    "fun()\n",
    "print(x)\n",
    "\n",
    "\n",
    "\n",
    "# to make local var global\n",
    "def fun():\n",
    "    # to global\n",
    "    global x\n",
    "    x=5\n",
    "    print(x)"
   ]
  }
 ],
 "metadata": {
  "kernelspec": {
   "display_name": "Python 3",
   "language": "python",
   "name": "python3"
  },
  "language_info": {
   "codemirror_mode": {
    "name": "ipython",
    "version": 3
   },
   "file_extension": ".py",
   "mimetype": "text/x-python",
   "name": "python",
   "nbconvert_exporter": "python",
   "pygments_lexer": "ipython3",
   "version": "3.11.2"
  },
  "orig_nbformat": 4
 },
 "nbformat": 4,
 "nbformat_minor": 2
}
