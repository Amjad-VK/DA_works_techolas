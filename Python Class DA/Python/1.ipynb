{
 "cells": [
  {
   "cell_type": "code",
   "execution_count": 4,
   "id": "cb198cb4",
   "metadata": {},
   "outputs": [
    {
     "name": "stdout",
     "output_type": "stream",
     "text": [
      "100\n"
     ]
    }
   ],
   "source": [
    "x=100\n",
    "print(x)"
   ]
  },
  {
   "cell_type": "code",
   "execution_count": 5,
   "id": "e6b40116",
   "metadata": {},
   "outputs": [
    {
     "name": "stdout",
     "output_type": "stream",
     "text": [
      "2\n"
     ]
    }
   ],
   "source": [
    "x,y=1,2\n",
    "print(y)"
   ]
  },
  {
   "cell_type": "code",
   "execution_count": 6,
   "id": "76988109",
   "metadata": {},
   "outputs": [
    {
     "name": "stdout",
     "output_type": "stream",
     "text": [
      "Volvo\n"
     ]
    }
   ],
   "source": [
    "carname=\"Volvo\"\n",
    "print(carname)"
   ]
  },
  {
   "cell_type": "code",
   "execution_count": 7,
   "id": "29c7e826",
   "metadata": {},
   "outputs": [
    {
     "name": "stdout",
     "output_type": "stream",
     "text": [
      "2\n"
     ]
    }
   ],
   "source": [
    "a=10//5\n",
    "print(a)"
   ]
  },
  {
   "cell_type": "code",
   "execution_count": 9,
   "id": "713cf8fc",
   "metadata": {},
   "outputs": [
    {
     "name": "stdout",
     "output_type": "stream",
     "text": [
      "6\n",
      "6.2\n",
      "2j\n"
     ]
    }
   ],
   "source": [
    "a=6\n",
    "b=6.2\n",
    "c=2j\n",
    "print(a)\n",
    "print(b)\n",
    "print(c)"
   ]
  },
  {
   "cell_type": "code",
   "execution_count": 10,
   "id": "1bb99c83",
   "metadata": {},
   "outputs": [
    {
     "name": "stdout",
     "output_type": "stream",
     "text": [
      "9\n"
     ]
    }
   ],
   "source": [
    "q=6\n",
    "w=9\n",
    "print(q and w)"
   ]
  },
  {
   "cell_type": "code",
   "execution_count": 13,
   "id": "a3633017",
   "metadata": {},
   "outputs": [
    {
     "name": "stdout",
     "output_type": "stream",
     "text": [
      "<class 'str'>\n",
      "4\n"
     ]
    }
   ],
   "source": [
    "a='Abcd'\n",
    "print(type(a))\n",
    "print(len(a))"
   ]
  },
  {
   "cell_type": "code",
   "execution_count": null,
   "id": "e30d999c",
   "metadata": {},
   "outputs": [],
   "source": [
    "h=input(\"Enter Value\")\n",
    "print(h)\n"
   ]
  },
  {
   "cell_type": "code",
   "execution_count": 47,
   "id": "27fc09c9",
   "metadata": {},
   "outputs": [
    {
     "name": "stdout",
     "output_type": "stream",
     "text": [
      "ing\n",
      "ng sli\n",
      "string slicing\n",
      "slicing\n",
      "g slic\n",
      "rn l\n"
     ]
    }
   ],
   "source": [
    "c=\"string slicing\"\n",
    "print(c[3:6])\n",
    "print(c[4:10])\n",
    "print(c[:])\n",
    "print(c[7:])\n",
    "print(c[-9:-3])\n",
    "print(c[2:10:2])"
   ]
  },
  {
   "cell_type": "code",
   "execution_count": 2,
   "id": "8c5e9092",
   "metadata": {},
   "outputs": [
    {
     "name": "stdout",
     "output_type": "stream",
     "text": [
      "Enter Value:huu\n",
      "huu\n"
     ]
    }
   ],
   "source": [
    "h=input(\"Enter Value:\")\n",
    "print(h)"
   ]
  },
  {
   "cell_type": "code",
   "execution_count": 3,
   "id": "9467b880",
   "metadata": {},
   "outputs": [
    {
     "name": "stdout",
     "output_type": "stream",
     "text": [
      "Enter Value 1:5\n",
      "Enter Value 2:5\n",
      "Sum:  10\n"
     ]
    }
   ],
   "source": [
    "h=int(input(\"Enter Value 1:\"))\n",
    "g=int(input(\"Enter Value 2:\"))\n",
    "sum=h+g\n",
    "print(\"Sum: \",sum)"
   ]
  },
  {
   "cell_type": "code",
   "execution_count": 4,
   "id": "290db5c8",
   "metadata": {},
   "outputs": [
    {
     "name": "stdout",
     "output_type": "stream",
     "text": [
      "Enter Number :534\n",
      "4\n"
     ]
    }
   ],
   "source": [
    "num=int(input(\"Enter Number :\"))\n",
    "l=num % 10\n",
    "print(l)"
   ]
  },
  {
   "cell_type": "code",
   "execution_count": 6,
   "id": "7f09696c",
   "metadata": {},
   "outputs": [
    {
     "name": "stdout",
     "output_type": "stream",
     "text": [
      "Enter Value 1:10\n",
      "Enter Value 2:20\n",
      "Enter Value 2:30\n",
      "20.0\n"
     ]
    }
   ],
   "source": [
    "h=int(input(\"Enter Value 1:\"))\n",
    "g=int(input(\"Enter Value 2:\"))\n",
    "o=int(input(\"Enter Value 2:\"))\n",
    "ag=(h+g+o)/3\n",
    "print(ag)"
   ]
  },
  {
   "cell_type": "code",
   "execution_count": 8,
   "id": "6e0937e3",
   "metadata": {},
   "outputs": [
    {
     "name": "stdout",
     "output_type": "stream",
     "text": [
      "Enter Value 1:hello\n",
      "Enter Value 2:12\n",
      "hello 12\n"
     ]
    }
   ],
   "source": [
    "h=input(\"Enter Value 1:\")\n",
    "g=input(\"Enter Value 2:\")\n",
    "f=h +\" \"+ g\n",
    "print(f)"
   ]
  },
  {
   "cell_type": "code",
   "execution_count": 13,
   "id": "fa954cff",
   "metadata": {},
   "outputs": [
    {
     "name": "stdout",
     "output_type": "stream",
     "text": [
      "Enter Value 1:hi \n",
      "hi hi hi hi hi \n"
     ]
    }
   ],
   "source": [
    "h=input(\"Enter Value 1:\")\n",
    "g=h * 5\n",
    "print(g)"
   ]
  },
  {
   "cell_type": "code",
   "execution_count": 18,
   "id": "6417e785",
   "metadata": {},
   "outputs": [
    {
     "name": "stdout",
     "output_type": "stream",
     "text": [
      "Enter Value 1:Sam\n",
      "Pam\n",
      "False\n"
     ]
    }
   ],
   "source": [
    "name=input(\"Enter Value 1:\")\n",
    "d=\"P\"+ name[1:]\n",
    "print(d)\n",
    "print(id(name)==id(d))\n",
    "# print(id(d))"
   ]
  },
  {
   "cell_type": "code",
   "execution_count": 26,
   "id": "e66a97c1",
   "metadata": {},
   "outputs": [
    {
     "name": "stdout",
     "output_type": "stream",
     "text": [
      "Enter Value:hi hello by\n",
      "hi hello by\n"
     ]
    }
   ],
   "source": [
    "name=input(\"Enter Value:\")\n",
    "# u=name.upper()\n",
    "# r=name.split(\"s\")\n",
    "st=name.strip()\n",
    "print(st)"
   ]
  },
  {
   "cell_type": "code",
   "execution_count": 2,
   "id": "02502643",
   "metadata": {},
   "outputs": [
    {
     "name": "stdout",
     "output_type": "stream",
     "text": [
      "Divsible\n"
     ]
    }
   ],
   "source": [
    "n=14\n",
    "if n%7==0:\n",
    "    print(\"Divsible\")\n",
    "else:\n",
    "    print('Not Divisible')"
   ]
  },
  {
   "cell_type": "code",
   "execution_count": 6,
   "id": "0ed498a9",
   "metadata": {},
   "outputs": [
    {
     "name": "stdout",
     "output_type": "stream",
     "text": [
      "Enter Age=18\n",
      "Eligible\n"
     ]
    }
   ],
   "source": [
    "n=int(input('Enter Age='))\n",
    "if n==18 or n > 18:\n",
    "    print(\"Eligible\")\n",
    "else:\n",
    "    print('Not Eligible')"
   ]
  },
  {
   "cell_type": "code",
   "execution_count": 7,
   "id": "e958c39a",
   "metadata": {},
   "outputs": [
    {
     "name": "stdout",
     "output_type": "stream",
     "text": [
      "Enter Number=-5\n",
      "Negative \n"
     ]
    }
   ],
   "source": [
    "n=int(input('Enter Number='))\n",
    "if n==0:\n",
    "    print(\"zero\")\n",
    "elif n < 0:\n",
    "    print(\"Negative \")\n",
    "else:\n",
    "    print(\"Positive\")"
   ]
  },
  {
   "cell_type": "code",
   "execution_count": null,
   "id": "6862e0ad",
   "metadata": {},
   "outputs": [],
   "source": [
    "n1=int(input('Enter Number 1='))\n",
    "n2=int(input('Enter Number 2='))\n",
    "n2=int(input('Enter Number 3='))\n",
    "if n1>n2 and n1>n3:\n",
    "    print(n1)\n",
    "elif n2>n1:\n",
    "    print(\"Negative \")\n",
    "else:\n",
    "    print(\"Positive\")"
   ]
  },
  {
   "cell_type": "code",
   "execution_count": 14,
   "id": "959297d1",
   "metadata": {},
   "outputs": [
    {
     "name": "stdout",
     "output_type": "stream",
     "text": [
      "False\n"
     ]
    }
   ],
   "source": [
    "a=5\n",
    "b=5\n",
    "print(a>b and b<a)"
   ]
  },
  {
   "cell_type": "code",
   "execution_count": 15,
   "id": "fc92ffba",
   "metadata": {},
   "outputs": [
    {
     "name": "stdout",
     "output_type": "stream",
     "text": [
      "10\n",
      "2\n",
      "{'name': 'V K', 'age': 10}\n",
      "name\n",
      "age\n",
      "V K\n",
      "10\n",
      "name V K\n",
      "age 10\n",
      "{'name': 'V K', 'age': 10, 'place': 'CLT'}\n",
      "{'name': 'V K', 'place': 'CLT'}\n"
     ]
    },
    {
     "ename": "AttributeError",
     "evalue": "'dict' object has no attribute 'empty'",
     "output_type": "error",
     "traceback": [
      "\u001b[1;31m---------------------------------------------------------------------------\u001b[0m",
      "\u001b[1;31mAttributeError\u001b[0m                            Traceback (most recent call last)",
      "Input \u001b[1;32mIn [15]\u001b[0m, in \u001b[0;36m<cell line: 38>\u001b[1;34m()\u001b[0m\n\u001b[0;32m     36\u001b[0m \u001b[38;5;66;03m# delete dictionary \u001b[39;00m\n\u001b[0;32m     37\u001b[0m \u001b[38;5;28mdict\u001b[39m\u001b[38;5;241m.\u001b[39mclear()\n\u001b[1;32m---> 38\u001b[0m \u001b[38;5;28;43mdict\u001b[39;49m\u001b[38;5;241;43m.\u001b[39;49m\u001b[43mempty\u001b[49m()\n\u001b[0;32m     39\u001b[0m \u001b[38;5;28mprint\u001b[39m(\u001b[38;5;28mdict\u001b[39m)\n\u001b[0;32m     42\u001b[0m \u001b[38;5;28mdict\u001b[39m[\u001b[38;5;124m\"\u001b[39m\u001b[38;5;124mplace\u001b[39m\u001b[38;5;124m\"\u001b[39m]\u001b[38;5;241m=\u001b[39m\u001b[38;5;124m'\u001b[39m\u001b[38;5;124mCLT\u001b[39m\u001b[38;5;124m'\u001b[39m\n",
      "\u001b[1;31mAttributeError\u001b[0m: 'dict' object has no attribute 'empty'"
     ]
    }
   ],
   "source": [
    "# Dictionary \n",
    "\n",
    "dict={\n",
    "    'name':'amjad',\n",
    "    'age':10,\n",
    "}\n",
    "print(dict[\"age\"])\n",
    "\n",
    "\n",
    "# length\n",
    "print(len(dict))\n",
    "\n",
    "#change value \n",
    "dict['name']='V K'\n",
    "print(dict)\n",
    "\n",
    "#print all keys\n",
    "for i in dict:\n",
    "    print(i)\n",
    "\n",
    "\n",
    "#print all values\n",
    "for i in dict:\n",
    "    print(dict[i])\n",
    "\n",
    "for x,y in dict.items():\n",
    "    print(x,y)\n",
    "    \n",
    "# add new value \n",
    "dict[\"place\"]='CLT'\n",
    "print(dict)\n",
    "\n",
    "dict.pop('age')\n",
    "print(dict)\n",
    "\n",
    "# delete dictionary \n",
    "dict.clear()\n",
    "dict.empty()\n",
    "print(dict)\n",
    "\n",
    "\n",
    "dict[\"place\"]='CLT'\n",
    "print(dict)"
   ]
  },
  {
   "cell_type": "code",
   "execution_count": 18,
   "id": "b484f621",
   "metadata": {},
   "outputs": [
    {
     "name": "stdout",
     "output_type": "stream",
     "text": [
      "{'name': 'amjad', 'age': 'CLT'}\n"
     ]
    }
   ],
   "source": [
    "dict={\n",
    "    'name':'amjad',\n",
    "    'age':10,\n",
    "}\n",
    "dict[\"age\"]='CLT'\n",
    "\n",
    "print(dict)\n"
   ]
  },
  {
   "cell_type": "code",
   "execution_count": null,
   "id": "28e49de1",
   "metadata": {},
   "outputs": [],
   "source": []
  }
 ],
 "metadata": {
  "kernelspec": {
   "display_name": "Python 3 (ipykernel)",
   "language": "python",
   "name": "python3"
  },
  "language_info": {
   "codemirror_mode": {
    "name": "ipython",
    "version": 3
   },
   "file_extension": ".py",
   "mimetype": "text/x-python",
   "name": "python",
   "nbconvert_exporter": "python",
   "pygments_lexer": "ipython3",
   "version": "3.9.7"
  }
 },
 "nbformat": 4,
 "nbformat_minor": 5
}
