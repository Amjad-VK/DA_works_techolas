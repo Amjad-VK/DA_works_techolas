{
 "cells": [
  {
   "cell_type": "code",
   "execution_count": null,
   "id": "905e06a8",
   "metadata": {},
   "outputs": [],
   "source": [
    "# [SYNTAX]lambda argument: expression\n",
    "# Only one expression but any no of argument "
   ]
  },
  {
   "cell_type": "code",
   "execution_count": 1,
   "id": "3b23ba49",
   "metadata": {},
   "outputs": [
    {
     "name": "stdout",
     "output_type": "stream",
     "text": [
      "3\n"
     ]
    }
   ],
   "source": [
    "x=lambda a: a + 1\n",
    "print(x(2))"
   ]
  },
  {
   "cell_type": "code",
   "execution_count": 2,
   "id": "549ea233",
   "metadata": {},
   "outputs": [
    {
     "name": "stdout",
     "output_type": "stream",
     "text": [
      "4\n"
     ]
    }
   ],
   "source": [
    "x=lambda a,b: a + b\n",
    "print(x(2,2))"
   ]
  },
  {
   "cell_type": "code",
   "execution_count": 3,
   "id": "7d8ed0cc",
   "metadata": {},
   "outputs": [
    {
     "name": "stdout",
     "output_type": "stream",
     "text": [
      "4\n"
     ]
    }
   ],
   "source": [
    "def fname(n):\n",
    "    return lambda a:a*n\n",
    "\n",
    "ans=fname(2)\n",
    "print(ans(2))"
   ]
  },
  {
   "cell_type": "code",
   "execution_count": null,
   "id": "328c7783",
   "metadata": {},
   "outputs": [],
   "source": []
  }
 ],
 "metadata": {
  "kernelspec": {
   "display_name": "Python 3 (ipykernel)",
   "language": "python",
   "name": "python3"
  },
  "language_info": {
   "codemirror_mode": {
    "name": "ipython",
    "version": 3
   },
   "file_extension": ".py",
   "mimetype": "text/x-python",
   "name": "python",
   "nbconvert_exporter": "python",
   "pygments_lexer": "ipython3",
   "version": "3.9.7"
  }
 },
 "nbformat": 4,
 "nbformat_minor": 5
}
