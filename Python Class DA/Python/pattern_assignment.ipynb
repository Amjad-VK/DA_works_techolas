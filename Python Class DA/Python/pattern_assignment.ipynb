{
 "cells": [
  {
   "cell_type": "code",
   "execution_count": 1,
   "metadata": {},
   "outputs": [
    {
     "name": "stdout",
     "output_type": "stream",
     "text": [
      "* * * * * \n",
      "* * * * * \n",
      "* * * * * \n",
      "* * * * * \n"
     ]
    }
   ],
   "source": [
    "# Solid Rectangle\n",
    "i=1 \n",
    "while i<=4:\n",
    "    j=1\n",
    "    while j<=5:\n",
    "        print('*',end=\" \")\n",
    "        j+=1\n",
    "    print()\n",
    "    i+=1\n",
    "        "
   ]
  },
  {
   "cell_type": "code",
   "execution_count": 9,
   "metadata": {},
   "outputs": [
    {
     "name": "stdout",
     "output_type": "stream",
     "text": [
      "* \n",
      "* * \n",
      "* * * \n",
      "* * * * \n",
      "* * * * * \n",
      "* * * * * * \n",
      "* * * * * \n",
      "* * * * \n",
      "* * * \n",
      "* * \n",
      "* \n"
     ]
    }
   ],
   "source": [
    "# 1\n",
    "i = 0\n",
    "while i <= 5:\n",
    "    j = 0\n",
    "    while j <= i:\n",
    "        print(\"*\", end=\" \")\n",
    "        j += 1\n",
    "    print()\n",
    "    i += 1\n",
    "\n",
    "m = 1\n",
    "while m <= 5:\n",
    "    n = m\n",
    "    while n <= 5:\n",
    "        print(\"*\", end=\" \")\n",
    "        n += 1\n",
    "    print()\n",
    "    m+= 1"
   ]
  },
  {
   "cell_type": "code",
   "execution_count": 1,
   "metadata": {},
   "outputs": [
    {
     "name": "stdout",
     "output_type": "stream",
     "text": [
      "    * \n",
      "  * * * \n",
      "* * * * * \n",
      "* * * * * \n",
      " * * * \n",
      "   * \n"
     ]
    }
   ],
   "source": [
    "# 3\n",
    "i=1\n",
    "while i<=5:\n",
    "    k=1\n",
    "    while k<=(5-i):\n",
    "        print(\" \",end='')\n",
    "        k+=1\n",
    "    j=1\n",
    "    while j<=i:\n",
    "        print(\"*\",end=' ')\n",
    "        j+=1\n",
    "    print()\n",
    "    i=i+2\n",
    "i=0\n",
    "while i<=4:\n",
    "    k=2\n",
    "    while k<=(i):\n",
    "        print(\" \",end='')\n",
    "        k+=1\n",
    "    j=i\n",
    "    while j<=4:\n",
    "        print('*',end=' ')\n",
    "        j+=1\n",
    "    print()\n",
    "    i=i+2"
   ]
  },
  {
   "cell_type": "code",
   "execution_count": 1,
   "metadata": {},
   "outputs": [],
   "source": [
    "\n",
    "i=0\n",
    "while i >= 5:\n",
    "    j=5\n",
    "    while j >= i:\n",
    "        print(\" \",end='')\n",
    "        j-=1\n",
    "    k=1\n",
    "    while k <= i:\n",
    "        print(\"*\",end=' ')\n",
    "        k+=1\n",
    "\n",
    "    print()\n",
    "    i+=1"
   ]
  },
  {
   "cell_type": "code",
   "execution_count": 4,
   "metadata": {},
   "outputs": [
    {
     "name": "stdout",
     "output_type": "stream",
     "text": [
      "          * \n",
      "        * * \n",
      "      * * * \n",
      "    * * * * \n",
      "  * * * * * \n",
      "    * * * * \n",
      "      * * * \n",
      "        * * \n",
      "          * \n"
     ]
    }
   ],
   "source": [
    "i=1\n",
    "while i <= 5:\n",
    "    j=5\n",
    "    while j>=i:\n",
    "        print(\" \",end=' ')\n",
    "        j-=1\n",
    "    k=1\n",
    "    while k <= i:\n",
    "        print(\"*\",end=' ')\n",
    "        k+=1\n",
    "\n",
    "    print()\n",
    "    i+=1\n",
    "\n",
    "i=1\n",
    "while i <= 4:\n",
    "    j=0\n",
    "    while j<=i:\n",
    "        print(\" \",end=' ')\n",
    "        j+=1\n",
    "    k=4\n",
    "    while k >= i:\n",
    "        print(\"*\",end=' ')\n",
    "        k-=1\n",
    "\n",
    "    print()\n",
    "    i+=1\n"
   ]
  },
  {
   "cell_type": "code",
   "execution_count": 18,
   "metadata": {},
   "outputs": [
    {
     "name": "stdout",
     "output_type": "stream",
     "text": [
      "          * \n",
      "        * * * \n",
      "      * * * * * \n",
      "    * * * * * * * \n",
      "  * * * * * * * * * \n",
      "    * * * * * * * \n",
      "      * * * * * \n",
      "        * * * \n",
      "          * \n"
     ]
    }
   ],
   "source": [
    "i=1\n",
    "while i<=5:\n",
    "    j=5\n",
    "    \n",
    "    while j>=i:\n",
    "       print(\" \",end=\" \")\n",
    "       j=j-1\n",
    "    k=1    \n",
    "    while k<=i:\n",
    "       print (\"*\",end=\" \")\n",
    "       k=k+1\n",
    "\n",
    "   \n",
    "    j=2\n",
    "    while j<=i:\n",
    "        print(\"*\",end=\" \")\n",
    "        j=j+1\n",
    "    print()\n",
    "    i=i+1   \n",
    "i=2\n",
    "while i<=5:\n",
    "    j=1\n",
    "    while j<=i:\n",
    "        print(\" \",end=\" \")\n",
    "        j=j+1\n",
    "    n=6   \n",
    "    while n>i:\n",
    "        print(\"*\",end=\" \")\n",
    "        n=n-1\n",
    "    j=5\n",
    "    while j>i:\n",
    "        print(\"*\",end=\" \") \n",
    "        j=j-1\n",
    "   \n",
    "\n",
    "    print()\n",
    "    i=i+1"
   ]
  },
  {
   "cell_type": "code",
   "execution_count": 21,
   "metadata": {},
   "outputs": [
    {
     "name": "stdout",
     "output_type": "stream",
     "text": [
      "* * * * * \n",
      "*       * \n",
      "* * * * * "
     ]
    }
   ],
   "source": [
    "i=1\n",
    "while i<=1:\n",
    "    j=1\n",
    "    while j<=5:\n",
    "        print('*',end=' ')\n",
    "        j+=1\n",
    "    print()\n",
    "    i+=1\n",
    "    j=1\n",
    "    while j<=1:\n",
    "        print('*',end=' ')\n",
    "        j+=1\n",
    "    j=1\n",
    "    while j<=3:\n",
    "        print(' ',end=' ')\n",
    "        j+=1\n",
    "    j=1\n",
    "    while j<=1:\n",
    "        print('*',end=' ')\n",
    "        j+=1\n",
    "    print()\n",
    "    j=1\n",
    "    while j<=5:\n",
    "        print('*',end=' ')\n",
    "        j+=1\n",
    "    \n",
    "    \n",
    "    \n"
   ]
  },
  {
   "cell_type": "code",
   "execution_count": 48,
   "metadata": {},
   "outputs": [
    {
     "name": "stdout",
     "output_type": "stream",
     "text": [
      "* * * * * \n",
      "*       \n",
      "* * * * * \n",
      "        * \n",
      "* * * * * "
     ]
    }
   ],
   "source": [
    "# S\n",
    "i=1\n",
    "while i<=1:\n",
    "    j=1\n",
    "    while j<=5:\n",
    "        print('*',end=' ')\n",
    "        j+=1\n",
    "    print()\n",
    "    i+=1\n",
    "    j=1\n",
    "    while j<=1:\n",
    "        print('*',end=' ')\n",
    "        j+=1\n",
    "    j=1\n",
    "    while j<=6:\n",
    "        print('',end=' ')\n",
    "        j+=1\n",
    "    print()\n",
    "    j=1\n",
    "    while j<=5:\n",
    "        print('*',end=' ')\n",
    "        j+=1\n",
    "    print()\n",
    "    j=1\n",
    "    while j<=4:\n",
    "        print(' ',end=' ')\n",
    "        j+=1\n",
    "    j=1\n",
    "    while j<=1:\n",
    "        print('*',end=' ')\n",
    "        j+=1\n",
    "    print()\n",
    "    j=1\n",
    "    while j<=5:\n",
    "        print('*',end=' ')\n",
    "        j+=1\n",
    "\n",
    "    "
   ]
  },
  {
   "cell_type": "code",
   "execution_count": 3,
   "metadata": {},
   "outputs": [
    {
     "name": "stdout",
     "output_type": "stream",
     "text": [
      "* * * \n",
      "*     \n",
      "* * * \n",
      "    * \n",
      "* * * \n"
     ]
    }
   ],
   "source": [
    "i=1\n",
    "while i<=5:\n",
    "    if i==2:\n",
    "        j=1\n",
    "        while j<=3:\n",
    "            if j>=2 and j<=3:\n",
    "                print(\" \",end=' ')\n",
    "            else:\n",
    "                print('*',end=' ')\n",
    "            j+=1\n",
    "    elif i==4:\n",
    "        j=1\n",
    "        while j<=3:\n",
    "            if j>=1 and j<=2:\n",
    "                print(\" \",end=' ')\n",
    "            else:\n",
    "                print('*',end=' ')\n",
    "            j+=1\n",
    "    else:\n",
    "        j=1\n",
    "        while j<=3:\n",
    "            print(\"*\",end=' ')\n",
    "            j+=1\n",
    "    print()\n",
    "    i+=1\n",
    "\n",
    "\n",
    "\n"
   ]
  },
  {
   "cell_type": "code",
   "execution_count": 10,
   "metadata": {},
   "outputs": [
    {
     "name": "stdout",
     "output_type": "stream",
     "text": [
      "* * * * * \n",
      "*       * \n",
      "* * * * * \n"
     ]
    }
   ],
   "source": [
    "# IMPORTANT\n",
    "\n",
    "i=1\n",
    "while i<=3:\n",
    "    if i==2:\n",
    "        j=1\n",
    "        while j<=5:\n",
    "            if j>=2 and j<=4:\n",
    "                print(' ',end=' ')\n",
    "            else:\n",
    "                print('*',end=' ')\n",
    "            j+=1\n",
    "    else:\n",
    "        j=1\n",
    "        while j<=5:\n",
    "            print('*',end=' ')\n",
    "            j+=1\n",
    "    print()\n",
    "    i+=1\n"
   ]
  },
  {
   "cell_type": "code",
   "execution_count": 1,
   "metadata": {},
   "outputs": [
    {
     "name": "stdout",
     "output_type": "stream",
     "text": [
      "*****\n"
     ]
    }
   ],
   "source": [
    "i=1\n",
    "while i<=1:\n",
    "    j=1\n",
    "    while j<=5:\n",
    "        print('*',end='')\n",
    "        j+=1\n",
    "    print()\n",
    "    i+=1\n",
    "    j=1\n",
    "    \n"
   ]
  },
  {
   "cell_type": "code",
   "execution_count": 7,
   "metadata": {},
   "outputs": [
    {
     "name": "stdout",
     "output_type": "stream",
     "text": [
      "            * * * * * * \n",
      "          * * * * * * \n",
      "        * * * * * * \n",
      "      * * * * * * \n",
      "    * * * * * * \n",
      "  * * * * * * \n"
     ]
    }
   ],
   "source": [
    "# RHOMBUS\n",
    "i=0\n",
    "while i<=5:\n",
    "    j=i\n",
    "    while j<=5:\n",
    "        print(\" \",end=' ')\n",
    "        j+=1\n",
    "    k=0\n",
    "    while k<=5:\n",
    "        print('*',end=' ')\n",
    "        k+=1\n",
    "    print()\n",
    "    i+=1\n"
   ]
  },
  {
   "cell_type": "code",
   "execution_count": null,
   "metadata": {},
   "outputs": [],
   "source": [
    "i=0\n",
    "while i<=4:\n",
    "    "
   ]
  }
 ],
 "metadata": {
  "kernelspec": {
   "display_name": "Python 3",
   "language": "python",
   "name": "python3"
  },
  "language_info": {
   "codemirror_mode": {
    "name": "ipython",
    "version": 3
   },
   "file_extension": ".py",
   "mimetype": "text/x-python",
   "name": "python",
   "nbconvert_exporter": "python",
   "pygments_lexer": "ipython3",
   "version": "3.11.2"
  },
  "orig_nbformat": 4
 },
 "nbformat": 4,
 "nbformat_minor": 2
}
