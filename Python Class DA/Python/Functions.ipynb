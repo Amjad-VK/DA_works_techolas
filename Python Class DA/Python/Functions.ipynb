{
 "cells": [
  {
   "cell_type": "code",
   "execution_count": null,
   "id": "a3d037d4",
   "metadata": {},
   "outputs": [],
   "source": [
    "# function has arguments "
   ]
  },
  {
   "cell_type": "code",
   "execution_count": null,
   "id": "89169202",
   "metadata": {},
   "outputs": [],
   "source": [
    "# Arbitrary arguments (*args)"
   ]
  },
  {
   "cell_type": "code",
   "execution_count": 7,
   "id": "fcf996f7",
   "metadata": {},
   "outputs": [
    {
     "name": "stdout",
     "output_type": "stream",
     "text": [
      "Hello ('Amjad', 'V', 'K')\n"
     ]
    }
   ],
   "source": [
    "def hi(*name):\n",
    "    print('Hello', name)\n",
    "    \n",
    "hi(\"Amjad\", \"V\", \"K\")"
   ]
  },
  {
   "cell_type": "code",
   "execution_count": 9,
   "id": "58b2b99c",
   "metadata": {},
   "outputs": [
    {
     "name": "stdout",
     "output_type": "stream",
     "text": [
      "Ramu\n"
     ]
    }
   ],
   "source": [
    "# Keyword Argument\n",
    "\n",
    "def hello(fname,lname):\n",
    "    print(fname)\n",
    "    \n",
    "hello(fname=\"Ramu\",lname=\"K\")"
   ]
  },
  {
   "cell_type": "code",
   "execution_count": 10,
   "id": "07970cd1",
   "metadata": {},
   "outputs": [
    {
     "name": "stdout",
     "output_type": "stream",
     "text": [
      "Hello {'fname': 'Ramu', 'lname': 'K'}\n"
     ]
    }
   ],
   "source": [
    "# Keyword Arbitrary arguments **kwargs\n",
    "\n",
    "def hello(**fname):\n",
    "    print(\"Hello\",fname)\n",
    "    \n",
    "hello(fname=\"Ramu\",lname=\"K\")"
   ]
  },
  {
   "cell_type": "code",
   "execution_count": 2,
   "id": "f464d8bb",
   "metadata": {},
   "outputs": [
    {
     "name": "stdout",
     "output_type": "stream",
     "text": [
      "Hello Name\n"
     ]
    }
   ],
   "source": [
    "# default \n",
    "def hello(fname='Name'):\n",
    "    print(\"Hello\",fname)\n",
    "    \n",
    "hello()\n"
   ]
  },
  {
   "cell_type": "code",
   "execution_count": 5,
   "id": "2052f00a",
   "metadata": {},
   "outputs": [
    {
     "name": "stdout",
     "output_type": "stream",
     "text": [
      "orange\n",
      "apple\n",
      "grapes\n"
     ]
    }
   ],
   "source": [
    "def fname(fruits):\n",
    "    for x in fruits:\n",
    "        print(x)\n",
    "        \n",
    "fruits=[\"orange\",\"apple\",\"grapes\"]\n",
    "\n",
    "fname(fruits)"
   ]
  },
  {
   "cell_type": "code",
   "execution_count": 7,
   "id": "0e4fd7c2",
   "metadata": {},
   "outputs": [
    {
     "name": "stdout",
     "output_type": "stream",
     "text": [
      "6\n"
     ]
    }
   ],
   "source": [
    "# Return values\n",
    "def fname(x):\n",
    "    return x + 1\n",
    "\n",
    "print(fname(5))"
   ]
  },
  {
   "cell_type": "code",
   "execution_count": null,
   "id": "d76773f0",
   "metadata": {},
   "outputs": [],
   "source": []
  }
 ],
 "metadata": {
  "kernelspec": {
   "display_name": "Python 3 (ipykernel)",
   "language": "python",
   "name": "python3"
  },
  "language_info": {
   "codemirror_mode": {
    "name": "ipython",
    "version": 3
   },
   "file_extension": ".py",
   "mimetype": "text/x-python",
   "name": "python",
   "nbconvert_exporter": "python",
   "pygments_lexer": "ipython3",
   "version": "3.9.7"
  }
 },
 "nbformat": 4,
 "nbformat_minor": 5
}
