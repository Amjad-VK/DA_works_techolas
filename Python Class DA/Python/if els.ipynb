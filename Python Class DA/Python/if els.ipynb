{
 "cells": [
  {
   "cell_type": "code",
   "execution_count": 7,
   "id": "e8aab279",
   "metadata": {},
   "outputs": [
    {
     "name": "stdout",
     "output_type": "stream",
     "text": [
      "None\n"
     ]
    }
   ],
   "source": [
    "a=1000\n",
    "b=100\n",
    "if a==b:\n",
    "    print(\"a is equal to b\")\n",
    "elif a<b:\n",
    "    print('a is smaller ')\n",
    "else:\n",
    "    print('None')"
   ]
  },
  {
   "cell_type": "code",
   "execution_count": 25,
   "id": "50d9d680",
   "metadata": {},
   "outputs": [
    {
     "name": "stdout",
     "output_type": "stream",
     "text": [
      "Average: 62.25\n",
      "Grade C\n"
     ]
    }
   ],
   "source": [
    "marks=[75,85,90,40,33,20,55,100]\n",
    "a=sum(marks)/len(marks)\n",
    "print(\"Average:\",a)\n",
    "\n",
    "\n",
    "\n",
    "if a>=90 or a>=100:\n",
    "    print(\"Grade A\")\n",
    "elif a>=70 or a>=90:\n",
    "    print('Grade B ')\n",
    "elif a>=60 or a>=70:\n",
    "    print('Grade C')\n",
    "elif a>=40 or a>=50:\n",
    "    print('Grade D')\n",
    "elif a<50:\n",
    "    print(\"Fail\")\n"
   ]
  },
  {
   "cell_type": "code",
   "execution_count": 22,
   "id": "8b050240",
   "metadata": {},
   "outputs": [
    {
     "name": "stdout",
     "output_type": "stream",
     "text": [
      "Average: 62.25 %\n"
     ]
    }
   ],
   "source": [
    "marks=[75,85,90,40,33,20,55,100]\n",
    "avg=sum(marks)/len(marks)\n",
    "print(\"Average:\",avg,\"%\")\n",
    "\n",
    "if avg < 50:\n",
    "    print(\"Fail\")\n",
    "    "
   ]
  },
  {
   "cell_type": "code",
   "execution_count": 3,
   "id": "18680b01",
   "metadata": {},
   "outputs": [
    {
     "name": "stdout",
     "output_type": "stream",
     "text": [
      "None\n"
     ]
    }
   ],
   "source": [
    "# Nested if\n",
    "a=40\n",
    "if a<50:\n",
    "    print('A is less than 50')\n",
    "    if a<60:\n",
    "        print(\"And is also less than 60\")\n",
    "    else:\n",
    "        print('Error')\n",
    "else:\n",
    "    print('None')"
   ]
  },
  {
   "cell_type": "code",
   "execution_count": 4,
   "id": "31bad4c7",
   "metadata": {},
   "outputs": [],
   "source": [
    "# Pass\n",
    "a=100\n",
    "b=30\n",
    "if a<200:\n",
    "    pass"
   ]
  },
  {
   "cell_type": "code",
   "execution_count": null,
   "id": "984ed4d2",
   "metadata": {},
   "outputs": [],
   "source": []
  }
 ],
 "metadata": {
  "kernelspec": {
   "display_name": "Python 3 (ipykernel)",
   "language": "python",
   "name": "python3"
  },
  "language_info": {
   "codemirror_mode": {
    "name": "ipython",
    "version": 3
   },
   "file_extension": ".py",
   "mimetype": "text/x-python",
   "name": "python",
   "nbconvert_exporter": "python",
   "pygments_lexer": "ipython3",
   "version": "3.9.7"
  }
 },
 "nbformat": 4,
 "nbformat_minor": 5
}
