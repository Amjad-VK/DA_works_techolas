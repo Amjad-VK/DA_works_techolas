{
 "cells": [
  {
   "cell_type": "code",
   "execution_count": 20,
   "metadata": {},
   "outputs": [
    {
     "data": {
      "text/plain": [
       "'A'"
      ]
     },
     "execution_count": 20,
     "metadata": {},
     "output_type": "execute_result"
    }
   ],
   "source": [
    "\n",
    "chr(65)"
   ]
  },
  {
   "cell_type": "code",
   "execution_count": 22,
   "metadata": {},
   "outputs": [
    {
     "name": "stdout",
     "output_type": "stream",
     "text": [
      "\n",
      "A \n",
      "B C \n",
      "D E F \n",
      "G H I J \n"
     ]
    }
   ],
   "source": [
    "# //method 1\n",
    "char='A'\n",
    "row=5\n",
    "i=0\n",
    "while i < row:\n",
    "    j=1\n",
    "    while j <= i:\n",
    "        print(char,end=' ')\n",
    "        char=chr(ord(char)+1)\n",
    "        j+=1\n",
    "    i+=1\n",
    "    print()"
   ]
  },
  {
   "cell_type": "code",
   "execution_count": 25,
   "metadata": {},
   "outputs": [
    {
     "name": "stdout",
     "output_type": "stream",
     "text": [
      "\n",
      "A \n",
      "A B \n",
      "A B C \n",
      "A B C D \n"
     ]
    }
   ],
   "source": [
    "# //method 1\n",
    "char='A'\n",
    "row=5\n",
    "i=0\n",
    "while i < row:\n",
    "    j=1\n",
    "    while j <= i:\n",
    "        print(char,end=' ')\n",
    "        char=chr(ord(char)+1)\n",
    "        j+=1\n",
    "    i+=1\n",
    "    print()\n",
    "    char='A'"
   ]
  },
  {
   "cell_type": "code",
   "execution_count": 24,
   "metadata": {},
   "outputs": [
    {
     "name": "stdout",
     "output_type": "stream",
     "text": [
      "A \n",
      "B B \n",
      "C C C \n",
      "D D D D \n"
     ]
    }
   ],
   "source": [
    "# //method 1(A)\n",
    "char='A'\n",
    "row=5\n",
    "i=1\n",
    "while i < row:\n",
    "    j=1\n",
    "    while j <= i:\n",
    "        print(char,end=' ')\n",
    "        j+=1\n",
    "    \n",
    "    print()\n",
    "    char=chr(ord(char)+1)\n",
    "    i+=1"
   ]
  },
  {
   "cell_type": "code",
   "execution_count": 17,
   "metadata": {},
   "outputs": [
    {
     "name": "stdout",
     "output_type": "stream",
     "text": [
      "A B C D E \n",
      "F G H I J \n",
      "K L M N O \n",
      "P Q R S T \n",
      "U V W X Y \n"
     ]
    }
   ],
   "source": [
    "# //method 2(this)\n",
    "\n",
    "i=1 \n",
    "x=65\n",
    "while i<=5:\n",
    "    j=1\n",
    "    while j<=5:\n",
    "        print(chr(x),end=\" \")\n",
    "        j+=1\n",
    "        x+=1\n",
    "    print()\n",
    "    i+=1\n",
    "        "
   ]
  },
  {
   "cell_type": "code",
   "execution_count": 19,
   "metadata": {},
   "outputs": [
    {
     "name": "stdout",
     "output_type": "stream",
     "text": [
      "A B C D E \n",
      " F G H I \n",
      "  J K L \n",
      "   M N \n",
      "    O \n"
     ]
    }
   ],
   "source": [
    "i=1\n",
    "x=65\n",
    "while i<=5:\n",
    "    k=2\n",
    "    while k<=(i):\n",
    "        print(\" \",end='')\n",
    "        k+=1\n",
    "    j=i\n",
    "    while j<=5:\n",
    "        print(chr(x),end=' ')\n",
    "        j+=1\n",
    "        x+=1\n",
    "    print()\n",
    "    i=i+1"
   ]
  },
  {
   "cell_type": "code",
   "execution_count": 23,
   "metadata": {},
   "outputs": [
    {
     "name": "stdout",
     "output_type": "stream",
     "text": [
      "    A \n",
      "   B C \n",
      "  D E F \n",
      " G H I J \n",
      "K L M N O \n"
     ]
    }
   ],
   "source": [
    "i=1\n",
    "x=65\n",
    "while i<=5:\n",
    "    k=1\n",
    "    while k<=(5-i):\n",
    "        print(\" \",end='')\n",
    "        k+=1\n",
    "    j=1\n",
    "    while j<=i:\n",
    "        print(chr(x),end=' ')\n",
    "        x+=1\n",
    "        j+=1\n",
    "    print()\n",
    "    i=i+1\n",
    "        "
   ]
  },
  {
   "cell_type": "code",
   "execution_count": 27,
   "metadata": {},
   "outputs": [
    {
     "name": "stdout",
     "output_type": "stream",
     "text": [
      "1 2 3 4 5 \n",
      " 6 7 8 9 \n",
      "  10 11 12 \n",
      "   13 14 \n",
      "    15 \n"
     ]
    }
   ],
   "source": [
    "i=1\n",
    "x=65\n",
    "n=1\n",
    "while i<=5:\n",
    "    k=2\n",
    "    while k<=(i):\n",
    "        print(\" \",end='')\n",
    "        k+=1\n",
    "    j=i\n",
    "    while j<=5:\n",
    "        print(n ,end=' ')\n",
    "        j+=1\n",
    "        n+=1\n",
    "        x+=1\n",
    "    print()\n",
    "    i=i+1"
   ]
  },
  {
   "cell_type": "code",
   "execution_count": 31,
   "metadata": {},
   "outputs": [
    {
     "name": "stdout",
     "output_type": "stream",
     "text": [
      "1 2 3 4 5 \n",
      "6 7 8 9 10 \n",
      "11 12 13 14 15 \n",
      "16 17 18 19 20 \n",
      "21 22 23 24 25 \n"
     ]
    }
   ],
   "source": [
    "\n",
    "i=1 \n",
    "x=65\n",
    "n=1\n",
    "while i<=5:\n",
    "    j=1\n",
    "    while j<=5:\n",
    "        print(n,end=\" \")\n",
    "        j+=1\n",
    "        n+=1\n",
    "        x+=1\n",
    "    print()\n",
    "    i+=1"
   ]
  }
 ],
 "metadata": {
  "kernelspec": {
   "display_name": "Python 3",
   "language": "python",
   "name": "python3"
  },
  "language_info": {
   "codemirror_mode": {
    "name": "ipython",
    "version": 3
   },
   "file_extension": ".py",
   "mimetype": "text/x-python",
   "name": "python",
   "nbconvert_exporter": "python",
   "pygments_lexer": "ipython3",
   "version": "3.11.2"
  },
  "orig_nbformat": 4
 },
 "nbformat": 4,
 "nbformat_minor": 2
}
