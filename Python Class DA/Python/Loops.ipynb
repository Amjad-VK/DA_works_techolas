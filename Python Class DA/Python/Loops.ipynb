{
 "cells": [
  {
   "cell_type": "code",
   "execution_count": 10,
   "id": "cd559eb6",
   "metadata": {},
   "outputs": [
    {
     "name": "stdout",
     "output_type": "stream",
     "text": [
      "1\n",
      "2\n",
      "3\n",
      "4\n",
      "6\n",
      "7\n"
     ]
    }
   ],
   "source": [
    "# While\n",
    "i=0\n",
    "while i <= 6:\n",
    "    i=i+1\n",
    "    if i==5:\n",
    "        continue\n",
    "    print(i)"
   ]
  },
  {
   "cell_type": "code",
   "execution_count": 17,
   "id": "c4b391c4",
   "metadata": {},
   "outputs": [
    {
     "name": "stdout",
     "output_type": "stream",
     "text": [
      "0\n",
      "1\n",
      "2\n",
      "3\n",
      "4\n",
      "5\n",
      "i no longer < 6\n"
     ]
    }
   ],
   "source": [
    "i=0\n",
    "while i < 6:\n",
    "    print(i)\n",
    "    i=i+1\n",
    "else:\n",
    "    print('i no longer < 6') "
   ]
  },
  {
   "cell_type": "code",
   "execution_count": 33,
   "id": "f823471e",
   "metadata": {},
   "outputs": [
    {
     "name": "stdout",
     "output_type": "stream",
     "text": [
      "AMJAD\n",
      "Calicut \n"
     ]
    }
   ],
   "source": [
    "# For Loop\n",
    "list={\"AMJAD\",\"VK\",\"Calicut \"}\n",
    "\n",
    "for j in list:\n",
    "    if j=='VK':\n",
    "        continue\n",
    "    print(j)"
   ]
  },
  {
   "cell_type": "code",
   "execution_count": 38,
   "id": "7df9f591",
   "metadata": {},
   "outputs": [
    {
     "name": "stdout",
     "output_type": "stream",
     "text": [
      "1\n",
      "3\n",
      "5\n",
      "7\n",
      "9\n",
      "Finished\n"
     ]
    }
   ],
   "source": [
    "for i in range(1,10,2):\n",
    "    print(i)\n",
    "else:\n",
    "    print('Finished')"
   ]
  },
  {
   "cell_type": "code",
   "execution_count": 43,
   "id": "058c87ec",
   "metadata": {},
   "outputs": [
    {
     "name": "stdout",
     "output_type": "stream",
     "text": [
      "AMJAD Male\n",
      "AMJAD Initial\n",
      "AMJAD Place\n",
      "VK Male\n",
      "VK Initial\n",
      "VK Place\n",
      "Calicut  Male\n",
      "Calicut  Initial\n",
      "Calicut  Place\n"
     ]
    }
   ],
   "source": [
    "# Nested Loops\n",
    "list=[\"AMJAD\",\"VK\",\"Calicut \"]\n",
    "list2=[\"Male\",\"Initial\",\"Place\"]\n",
    "\n",
    "for i in list:\n",
    "    for j in list2:\n",
    "        print(i,j)\n",
    "        "
   ]
  },
  {
   "cell_type": "code",
   "execution_count": 1,
   "id": "56b6c7bd",
   "metadata": {},
   "outputs": [
    {
     "name": "stdout",
     "output_type": "stream",
     "text": [
      "Enter a Number:7\n",
      "Odd Number\n"
     ]
    }
   ],
   "source": [
    "# Check number entered by user is even or odd\n",
    "n=int(input(\"Enter a Number:\"))\n",
    "if n%2==0:\n",
    "    print(\"Even Number\")\n",
    "else:\n",
    "    print(\"Odd Number\")"
   ]
  },
  {
   "cell_type": "code",
   "execution_count": 8,
   "id": "f000663d",
   "metadata": {},
   "outputs": [
    {
     "name": "stdout",
     "output_type": "stream",
     "text": [
      "Enter a Number:54454\n",
      "Not Divisible\n"
     ]
    }
   ],
   "source": [
    "n=int(input(\"Enter a Number:\"))\n",
    "if n%7==0:\n",
    "    print(\"Divisible\")\n",
    "else:\n",
    "    print(\"Not Divisible\")"
   ]
  },
  {
   "cell_type": "code",
   "execution_count": 15,
   "id": "aec6de48",
   "metadata": {},
   "outputs": [
    {
     "name": "stdout",
     "output_type": "stream",
     "text": [
      "Enter the Unit:201\n",
      "Charge 510\n"
     ]
    }
   ],
   "source": [
    "# calculate the electricity bill according to the following criteria\n",
    "n=int(input(\"Enter the Unit:\"))\n",
    "if (n<=100):\n",
    "    print(\"No Charge\")\n",
    "elif n>100 and n<=200:\n",
    "    amount=(n-100)*5\n",
    "    print(\"Charge\",amount)\n",
    "else:\n",
    "    amount=500+(n-200)*10\n",
    "    print(\"Charge\",amount)"
   ]
  },
  {
   "cell_type": "code",
   "execution_count": 17,
   "id": "bdab61f4",
   "metadata": {},
   "outputs": [
    {
     "name": "stdout",
     "output_type": "stream",
     "text": [
      "A\n",
      "C\n",
      "D\n",
      "E\n"
     ]
    }
   ],
   "source": [
    "lst=[\"A\",\"B\",\"C\",\"D\",\"E\"]\n",
    "for i in lst:\n",
    "    if i==\"B\":\n",
    "        continue\n",
    "    print(i)"
   ]
  },
  {
   "cell_type": "code",
   "execution_count": 3,
   "id": "e6eff501",
   "metadata": {},
   "outputs": [
    {
     "name": "stdout",
     "output_type": "stream",
     "text": [
      "1\n",
      "2\n",
      "3\n",
      "4\n",
      "5\n",
      "6\n",
      "7\n",
      "8\n",
      "9\n",
      "10\n"
     ]
    }
   ],
   "source": [
    "#print first 10 natural no using while loop\n",
    "i=0\n",
    "\n",
    "while i<10:\n",
    "    i=i+1\n",
    "    print(i)"
   ]
  },
  {
   "cell_type": "code",
   "execution_count": 10,
   "id": "df4bcf37",
   "metadata": {},
   "outputs": [
    {
     "name": "stdout",
     "output_type": "stream",
     "text": [
      "7\n",
      "14\n",
      "21\n",
      "28\n",
      "35\n",
      "42\n",
      "49\n"
     ]
    }
   ],
   "source": [
    "#write a prgm to display the 1st 7 multiples of 7\n",
    "\n",
    "i=1\n",
    "while i<=7:\n",
    "    print(i*7)\n",
    "    i=i+1\n",
    "\n"
   ]
  },
  {
   "cell_type": "code",
   "execution_count": 18,
   "id": "a2fc766d",
   "metadata": {},
   "outputs": [
    {
     "name": "stdout",
     "output_type": "stream",
     "text": [
      "7\n",
      "14\n",
      "21\n",
      "28\n",
      "35\n",
      "42\n",
      "49\n"
     ]
    }
   ],
   "source": [
    "i=1\n",
    "for i in range(1,8):\n",
    "    print(i*7)"
   ]
  },
  {
   "cell_type": "code",
   "execution_count": 22,
   "id": "d5e2d780",
   "metadata": {},
   "outputs": [
    {
     "name": "stdout",
     "output_type": "stream",
     "text": [
      "Squared: [4, 49, 64, 16, 9, 1]\n"
     ]
    }
   ],
   "source": [
    "# that append the square of each no to a new list\n",
    "x=[2,7,8,4,3,1]\n",
    "y=[]\n",
    "\n",
    "for i in x:\n",
    "    a=i*i\n",
    "    y.append(a)\n",
    "\n",
    "\n",
    "print(\"Squared:\",y)\n"
   ]
  }
 ],
 "metadata": {
  "kernelspec": {
   "display_name": "Python 3 (ipykernel)",
   "language": "python",
   "name": "python3"
  },
  "language_info": {
   "codemirror_mode": {
    "name": "ipython",
    "version": 3
   },
   "file_extension": ".py",
   "mimetype": "text/x-python",
   "name": "python",
   "nbconvert_exporter": "python",
   "pygments_lexer": "ipython3",
   "version": "3.11.2"
  }
 },
 "nbformat": 4,
 "nbformat_minor": 5
}
