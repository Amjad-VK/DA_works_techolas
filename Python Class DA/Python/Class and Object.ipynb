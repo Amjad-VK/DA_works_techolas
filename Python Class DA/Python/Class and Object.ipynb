{
 "cells": [
  {
   "cell_type": "code",
   "execution_count": null,
   "id": "9dd6163b",
   "metadata": {},
   "outputs": [],
   "source": []
  },
  {
   "cell_type": "code",
   "execution_count": null,
   "id": "b03bc44d",
   "metadata": {},
   "outputs": [],
   "source": [
    "class cname:\n",
    "    x=5\n",
    "    \n",
    "# created an object    \n",
    "a=cname()   \n",
    "\n",
    "print(a.x)"
   ]
  },
  {
   "cell_type": "code",
   "execution_count": 3,
   "id": "cdac6c1e",
   "metadata": {},
   "outputs": [
    {
     "name": "stdout",
     "output_type": "stream",
     "text": [
      "AMJAD 22\n"
     ]
    }
   ],
   "source": [
    "# assign value to obj prps (__init__)\n",
    "\n",
    "class person:\n",
    "    def __init__(self,name,age):\n",
    "        self.name=name\n",
    "        self.age=age\n",
    "    def __str__(self):\n",
    "        return f\"{self.name} {self.age}\"\n",
    "p=person(\"AMJAD\",22)\n",
    "print(p)"
   ]
  },
  {
   "cell_type": "code",
   "execution_count": null,
   "id": "811e3e69",
   "metadata": {},
   "outputs": [],
   "source": []
  }
 ],
 "metadata": {
  "kernelspec": {
   "display_name": "Python 3 (ipykernel)",
   "language": "python",
   "name": "python3"
  },
  "language_info": {
   "codemirror_mode": {
    "name": "ipython",
    "version": 3
   },
   "file_extension": ".py",
   "mimetype": "text/x-python",
   "name": "python",
   "nbconvert_exporter": "python",
   "pygments_lexer": "ipython3",
   "version": "3.9.7"
  }
 },
 "nbformat": 4,
 "nbformat_minor": 5
}
