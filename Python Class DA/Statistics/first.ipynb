{
 "cells": [
  {
   "cell_type": "code",
   "execution_count": 10,
   "metadata": {},
   "outputs": [
    {
     "name": "stdout",
     "output_type": "stream",
     "text": [
      "Mean: 3.3333333333333335\n",
      "Median: 3.5\n",
      "Mode: 5\n"
     ]
    }
   ],
   "source": [
    "import statistics as st\n",
    "a=[1,2,3,4,5,5]\n",
    "print(\"Mean:\",st.mean(a))\n",
    "print(\"Median:\",st.median(a))\n",
    "print(\"Mode:\",st.mode(a))"
   ]
  },
  {
   "cell_type": "code",
   "execution_count": 3,
   "metadata": {},
   "outputs": [
    {
     "name": "stdout",
     "output_type": "stream",
     "text": [
      "Mean(A): 6\n",
      "Mean(B): 6\n",
      "Min: 4\n",
      "Max: 11\n",
      "Range: 7\n"
     ]
    }
   ],
   "source": [
    "import statistics as st\n",
    "a=[4,5,5,5,6,6,6,6,7,7,7,8]\n",
    "b=[1,2,3,4,5,6,6,7,8,9,10,11]\n",
    "print(\"Mean(A):\",st.mean(a))\n",
    "print(\"Mean(B):\",st.mean(a))\n",
    "print(\"Min:\",min(a))\n",
    "print(\"Max:\",max(b))\n",
    "print(\"Range:\",max(a)-min(b))\n",
    "\n"
   ]
  },
  {
   "cell_type": "code",
   "execution_count": 6,
   "metadata": {},
   "outputs": [
    {
     "name": "stdout",
     "output_type": "stream",
     "text": [
      "5.0\n",
      "6.0\n",
      "7.0\n",
      "IQR 2.0\n"
     ]
    }
   ],
   "source": [
    "import numpy as np\n",
    "data=np.array([4,5,5,5,6,6,6,6,7,7,7,8])\n",
    "q1=np.percentile(data,25)\n",
    "print(q1)\n",
    "q2=np.percentile(data,50)\n",
    "print(q2)\n",
    "q3=np.percentile(data,75)\n",
    "print(q3)\n",
    "\n",
    "# INTER QUARTILE RANGE\n",
    "print(\"IQR\",q3-q1)\n"
   ]
  },
  {
   "cell_type": "code",
   "execution_count": null,
   "metadata": {},
   "outputs": [],
   "source": []
  }
 ],
 "metadata": {
  "kernelspec": {
   "display_name": "Python 3 (ipykernel)",
   "language": "python",
   "name": "python3"
  },
  "language_info": {
   "codemirror_mode": {
    "name": "ipython",
    "version": 3
   },
   "file_extension": ".py",
   "mimetype": "text/x-python",
   "name": "python",
   "nbconvert_exporter": "python",
   "pygments_lexer": "ipython3",
   "version": "3.9.7"
  }
 },
 "nbformat": 4,
 "nbformat_minor": 2
}
